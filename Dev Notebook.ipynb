{
 "cells": [
  {
   "cell_type": "code",
   "execution_count": 1,
   "metadata": {},
   "outputs": [],
   "source": [
    "import numpy as np\n",
    "import scipy\n",
    "import pandas as pd\n",
    "from matplotlib import pyplot as plt\n",
    "\n",
    "%matplotlib inline\n",
    "plt.rcParams['figure.figsize'] = [15, 10]"
   ]
  },
  {
   "cell_type": "code",
   "execution_count": 2,
   "metadata": {},
   "outputs": [],
   "source": [
    "from data_manipulation import split_train_test_valid, get_precision, load_data\n",
    "from regressions import get_ridge_prediction, ridge_regression, get_best_reg_param"
   ]
  },
  {
   "cell_type": "markdown",
   "metadata": {},
   "source": [
    "## Kernel ridge regression (linear kernel)"
   ]
  },
  {
   "cell_type": "code",
   "execution_count": 3,
   "metadata": {},
   "outputs": [
    {
     "data": {
      "text/plain": [
       "(1200, 50)"
      ]
     },
     "execution_count": 3,
     "metadata": {},
     "output_type": "execute_result"
    }
   ],
   "source": [
    "DATA = load_data()\n",
    "\n",
    "train_X, train_y, test_X, test_y, valid_X, valid_y = split_train_test_valid(DATA[0]['X_train'], DATA[0]['y_train'])\n",
    "train_X.shape"
   ]
  },
  {
   "cell_type": "code",
   "execution_count": 4,
   "metadata": {},
   "outputs": [],
   "source": [
    "def linear_K(x1, x2):\n",
    "    return x1 @ x2.T"
   ]
  },
  {
   "cell_type": "markdown",
   "metadata": {},
   "source": [
    "## Logistic "
   ]
  },
  {
   "cell_type": "code",
   "execution_count": 5,
   "metadata": {},
   "outputs": [],
   "source": [
    "K = linear_K(train_X, train_X)\n",
    "K_x = linear_K(train_X, test_X)"
   ]
  },
  {
   "cell_type": "code",
   "execution_count": null,
   "metadata": {},
   "outputs": [],
   "source": [
    "def WKRR(K, W, y, reg):\n",
    "    n = K.shape[0]\n",
    "    W_half = np.diag(np.sqrt(W))\n",
    "    return W_half @ np.linalg.inv(W_half@K@W_half + n*reg*np.eye(n)) @ W_half @ y"
   ]
  },
  {
   "cell_type": "code",
   "execution_count": null,
   "metadata": {},
   "outputs": [],
   "source": [
    "WKRR(K, np.ones((1200,)), train_y, 0.1).shape"
   ]
  },
  {
   "cell_type": "code",
   "execution_count": null,
   "metadata": {},
   "outputs": [],
   "source": [
    "def sigmoid(x):\n",
    "    return 1 / (1+np.exp(-x)) + 10**-5"
   ]
  },
  {
   "cell_type": "code",
   "execution_count": null,
   "metadata": {},
   "outputs": [],
   "source": [
    "def logistic_regression(K, y, reg):\n",
    "    n = K.shape[0]\n",
    "    W = np.ones((n,))\n",
    "    z = y\n",
    "    for i in range(10):\n",
    "        print(i)\n",
    "        alpha = WKRR(K, W, z, reg)\n",
    "        m = alpha @ K\n",
    "        W = sigmoid(m) * sigmoid(-m)\n",
    "        z = m + y/sigmoid(-y*m)\n",
    "        \n",
    "    return alpha"
   ]
  },
  {
   "cell_type": "code",
   "execution_count": null,
   "metadata": {},
   "outputs": [],
   "source": [
    "alpha = logistic_regression(K, train_y, .00001)\n",
    "pred = get_ridge_prediction(K, alpha)\n",
    "get_precision(pred, train_y)"
   ]
  },
  {
   "cell_type": "code",
   "execution_count": null,
   "metadata": {
    "scrolled": true
   },
   "outputs": [],
   "source": [
    "get_best_reg_param(linear_K, logistic_regression, (train_X, train_y, test_X, test_y))"
   ]
  },
  {
   "cell_type": "markdown",
   "metadata": {},
   "source": [
    "## SVM (Linear Kernel)"
   ]
  },
  {
   "cell_type": "code",
   "execution_count": null,
   "metadata": {},
   "outputs": [],
   "source": [
    "from SVM import a_compute"
   ]
  },
  {
   "cell_type": "code",
   "execution_count": null,
   "metadata": {},
   "outputs": [],
   "source": [
    "train_y"
   ]
  },
  {
   "cell_type": "code",
   "execution_count": null,
   "metadata": {},
   "outputs": [],
   "source": [
    "def SVM_train(kernel, X, y, Lambda):\n",
    "    N = y.shape[0]\n",
    "    y = 2*y-1\n",
    "    \n",
    "    K = kernel(X,X)\n",
    "    alpha = np.zeros(N)\n",
    "    # we assume K is of size N,N\n",
    "    value = 100000\n",
    "\n",
    "    for n in range(1,100):\n",
    "        gradient = K @ alpha - y\n",
    "        potential_alpha = alpha - 1/n * gradient\n",
    "        for i in range(N):\n",
    "            if potential_alpha[i] * y[i] > 1. / (2. * Lambda * N):\n",
    "                potential_alpha[i] = (1. / (2. * Lambda * N))\n",
    "            if potential_alpha[i] * y[i] < 0.:\n",
    "                potential_alpha[i] = 0.\n",
    "        alpha = potential_alpha\n",
    "\n",
    "    return alpha\n",
    "\n",
    "def SVM_predict(X_train, X_test, alpha):\n",
    "    pos_neg = np.sign(alpha @ linear_K(train_X, test_X))\n",
    "    print(pos_neg)\n",
    "    return (pos_neg/2+0.5).astype(int)"
   ]
  },
  {
   "cell_type": "code",
   "execution_count": null,
   "metadata": {
    "scrolled": true
   },
   "outputs": [],
   "source": [
    "K = linear_K(train_X, train_X)\n",
    "alpha = SVM_train(linear_K, train_X, train_y, 0.1)\n",
    "alpha"
   ]
  },
  {
   "cell_type": "markdown",
   "metadata": {},
   "source": [
    "## Spectrum kernel "
   ]
  },
  {
   "cell_type": "code",
   "execution_count": 6,
   "metadata": {},
   "outputs": [],
   "source": [
    "from spectrum_kernel import transform_to_index_and_save, get_words, load_data_k_spectrum"
   ]
  },
  {
   "cell_type": "code",
   "execution_count": 7,
   "metadata": {},
   "outputs": [],
   "source": [
    "def spectrum_kernel(x1, x2):        \n",
    "    return x1 @ x2.T"
   ]
  },
  {
   "cell_type": "markdown",
   "metadata": {},
   "source": [
    "## Mismatch Kernel "
   ]
  },
  {
   "cell_type": "code",
   "execution_count": 68,
   "metadata": {},
   "outputs": [],
   "source": [
    "from mismatch_kernel import get_mismatch_matrix, get_exp_mismatch_matrix"
   ]
  },
  {
   "cell_type": "code",
   "execution_count": 69,
   "metadata": {},
   "outputs": [],
   "source": [
    "mismatch_matrix = get_mismatch_matrix(6,1)"
   ]
  },
  {
   "cell_type": "code",
   "execution_count": 70,
   "metadata": {},
   "outputs": [],
   "source": [
    "def mismatch_kernel(x1, x2):\n",
    "    return x1 @ mismatch_matrix @ x2.T"
   ]
  },
  {
   "cell_type": "markdown",
   "metadata": {},
   "source": [
    "## Homemade mismatch "
   ]
  },
  {
   "cell_type": "code",
   "execution_count": 84,
   "metadata": {},
   "outputs": [],
   "source": [
    "exp_mismatch_matrix = get_exp_mismatch_matrix(6,0.4)"
   ]
  },
  {
   "cell_type": "code",
   "execution_count": 85,
   "metadata": {},
   "outputs": [],
   "source": [
    "def exp_mismatch_kernel(x1, x2):\n",
    "    return x1 @ exp_mismatch_matrix @ x2.T"
   ]
  },
  {
   "cell_type": "markdown",
   "metadata": {},
   "source": [
    "## Substring Kernel "
   ]
  },
  {
   "cell_type": "code",
   "execution_count": null,
   "metadata": {},
   "outputs": [],
   "source": [
    "from substring_kernel import K_k, substring_kernel"
   ]
  },
  {
   "cell_type": "code",
   "execution_count": null,
   "metadata": {},
   "outputs": [],
   "source": [
    "LAMBDA = 0.1\n",
    "K_k(LAMBDA, 2, 'car', 'car') - 2*LAMBDA**4+LAMBDA**6 < 10**-5"
   ]
  },
  {
   "cell_type": "code",
   "execution_count": null,
   "metadata": {},
   "outputs": [],
   "source": [
    "# This is too slow by several orders of magnitude...\n",
    "K_k(0.1, 5, \n",
    "   'CAGCTTTTATCACCTTTGAGGGAAAGTCATATTAATTTAATACTGCACACACTTGTACAACAGATCTTCTTTACTATTAAAACTCAGTTTATCAAATCACA',\n",
    "   'AATAACATACCCCACTCTTTCATCTCAATCAAAAATTGAAAAAGTCAAAGAATCCTGCTTTTTTGTTTTTCTCCAAGCCATTACCCCCTCTTGATCATTGC'\n",
    "   )"
   ]
  },
  {
   "cell_type": "markdown",
   "metadata": {},
   "source": [
    "## Final results"
   ]
  },
  {
   "cell_type": "code",
   "execution_count": 8,
   "metadata": {},
   "outputs": [],
   "source": [
    "from main import train_tune_and_pred, see_variability"
   ]
  },
  {
   "cell_type": "code",
   "execution_count": 133,
   "metadata": {},
   "outputs": [],
   "source": [
    "DATA = load_data_k_spectrum(6)\n",
    "exp_mismatch_matrix = get_exp_mismatch_matrix(6, 0.4)"
   ]
  },
  {
   "cell_type": "code",
   "execution_count": 134,
   "metadata": {},
   "outputs": [
    {
     "data": {
      "text/plain": [
       "(2000, 4096)"
      ]
     },
     "execution_count": 134,
     "metadata": {},
     "output_type": "execute_result"
    }
   ],
   "source": [
    "DATA[0]['X_train'].shape"
   ]
  },
  {
   "cell_type": "code",
   "execution_count": 135,
   "metadata": {},
   "outputs": [
    {
     "name": "stdout",
     "output_type": "stream",
     "text": [
      "Dataset 0 has found a parameter (0.1) with validation precision 0.728\n",
      "Dataset 1 has found a parameter (0.05) with validation precision 0.868\n",
      "Dataset 2 has found a parameter (0.05) with validation precision 0.645\n"
     ]
    }
   ],
   "source": [
    "train_tune_and_pred(exp_mismatch_kernel, ridge_regression, DATA)"
   ]
  },
  {
   "cell_type": "markdown",
   "metadata": {},
   "source": [
    "#### Some variability testing "
   ]
  },
  {
   "cell_type": "code",
   "execution_count": 155,
   "metadata": {},
   "outputs": [],
   "source": [
    "reg_params_per_kernel = [\n",
    "    [1e-09, 1e-10, 100.],  # spectrum k=1\n",
    "    [5., 5., 1e-10],  # spectrum k=2\n",
    "    [.001, 1e-10, 1e-10],  # spectrum k=3\n",
    "    [.5, .05, 1.],  # spectrum k=4\n",
    "    [.1, .1, .5],  # spectrum k=5\n",
    "    [.05, .05, .1],  # spectrum k=6\n",
    "    [.005, .005, .1],  # mismatch k=4, m=1\n",
    "    [.005, .005, .01],  # mismatch k=5, m=1\n",
    "    [.5, 1., .5],  # mismatch k=6, m=1\n",
    "    [5., 5., 5.],  # mismatch k=6, m=2\n",
    "    [.1, .05, .1],  # exp-mismatch k=4\n",
    "    [.5, .1, .5],  # exp-mismatch k=5\n",
    "    [.1, .05, .05],  # exp-mismatch k=6\n",
    "]"
   ]
  },
  {
   "cell_type": "code",
   "execution_count": 156,
   "metadata": {},
   "outputs": [],
   "source": [
    "N = len(reg_params_per_kernel)\n",
    "res = np.zeros((3, 10, N))"
   ]
  },
  {
   "cell_type": "code",
   "execution_count": 157,
   "metadata": {},
   "outputs": [
    {
     "name": "stdout",
     "output_type": "stream",
     "text": [
      "0\n",
      "1\n",
      "2\n",
      "[ 0.50575  0.63225  0.52125]\n",
      "0\n",
      "1\n",
      "2\n",
      "[ 0.52875  0.655    0.5195 ]\n",
      "0\n",
      "1\n",
      "2\n",
      "[ 0.66175  0.736    0.6305 ]\n",
      "0\n",
      "1\n",
      "2\n",
      "[ 0.7205  0.839   0.6395]\n",
      "0\n",
      "1\n",
      "2\n",
      "[ 0.72475  0.847    0.63375]\n",
      "0\n",
      "1\n",
      "2\n",
      "[ 0.7225   0.86775  0.616  ]\n"
     ]
    }
   ],
   "source": [
    "# Spectrum kernels\n",
    "for k in range(6):\n",
    "    res[:,:,k] = see_variability(spectrum_kernel, \n",
    "                                 ridge_regression, \n",
    "                                 load_data_k_spectrum(k+1), \n",
    "                                 reg_params_per_kernel[k])"
   ]
  },
  {
   "cell_type": "code",
   "execution_count": 158,
   "metadata": {},
   "outputs": [
    {
     "name": "stdout",
     "output_type": "stream",
     "text": [
      "6\n",
      "0\n",
      "1\n",
      "2\n",
      "[ 0.699   0.8345  0.6065]\n",
      "7\n",
      "0\n",
      "1\n",
      "2\n",
      "[ 0.6675   0.77625  0.59675]\n",
      "8\n",
      "0\n",
      "1\n",
      "2\n",
      "[ 0.712    0.84075  0.62325]\n"
     ]
    }
   ],
   "source": [
    "# Mismatch kernels\n",
    "for k in range(4,7):\n",
    "    n_th_kernel = k+6-4\n",
    "    print(n_th_kernel)\n",
    "    mismatch_matrix =  get_mismatch_matrix(k, 1)\n",
    "    res[:,:,n_th_kernel] = see_variability(mismatch_kernel, \n",
    "                                           ridge_regression, \n",
    "                                           load_data_k_spectrum(k),\n",
    "                                           reg_params_per_kernel[n_th_kernel])"
   ]
  },
  {
   "cell_type": "code",
   "execution_count": 159,
   "metadata": {},
   "outputs": [
    {
     "name": "stdout",
     "output_type": "stream",
     "text": [
      "0\n",
      "1\n",
      "2\n",
      "[ 0.66325  0.726    0.60575]\n"
     ]
    }
   ],
   "source": [
    "mismatch_matrix =  get_mismatch_matrix(6, 2)\n",
    "n_th_kernel = 9\n",
    "res[:,:,n_th_kernel] = see_variability(mismatch_kernel, \n",
    "                                       ridge_regression, \n",
    "                                       load_data_k_spectrum(6),\n",
    "                                       reg_params_per_kernel[n_th_kernel])"
   ]
  },
  {
   "cell_type": "code",
   "execution_count": 160,
   "metadata": {},
   "outputs": [
    {
     "name": "stdout",
     "output_type": "stream",
     "text": [
      "10 [0.1, 0.05, 0.1]\n",
      "0\n",
      "1\n",
      "2\n",
      "[ 0.7255   0.852    0.63025]\n",
      "11 [0.5, 0.1, 0.5]\n",
      "0\n",
      "1\n",
      "2\n",
      "[ 0.72175  0.867    0.63275]\n",
      "12 [0.1, 0.05, 0.05]\n",
      "0\n",
      "1\n",
      "2\n",
      "[ 0.739    0.86075  0.6475 ]\n"
     ]
    }
   ],
   "source": [
    "# Exp-mismatch kernels\n",
    "for k in range(4,7):\n",
    "    n_th_kernel = k+10-4\n",
    "    print(n_th_kernel, reg_params_per_kernel[n_th_kernel])\n",
    "    exp_mismatch_matrix = get_exp_mismatch_matrix(k, 0.4)\n",
    "    res[:,:,n_th_kernel] = see_variability(exp_mismatch_kernel, \n",
    "                                           ridge_regression, \n",
    "                                           load_data_k_spectrum(k), \n",
    "                                           reg_params_per_kernel[n_th_kernel])"
   ]
  },
  {
   "cell_type": "code",
   "execution_count": 161,
   "metadata": {
    "scrolled": false
   },
   "outputs": [
    {
     "data": {
      "image/png": "[encoded data removed]",
      "text/plain": [
       "<matplotlib.figure.Figure at 0x7f70655b1208>"
      ]
     },
     "metadata": {},
     "output_type": "display_data"
    }
   ],
   "source": [
    "colors = ['pink', 'lightblue', 'lightgreen']\n",
    "for k in range(3):\n",
    "    bplot = plt.boxplot(res[k,:,:], \n",
    "                        patch_artist=True)\n",
    "    for box in bplot['boxes']:\n",
    "        box.set_facecolor(colors[k])\n",
    "ind = np.arange(1, N+1)\n",
    "plt.xticks(ind, \n",
    "           ['Spectrum\\nk = %s' % k for k in range(1,7)] \n",
    "           + ['Mismatch\\nk=%s, m=1' % k for k in range(4,7)] \n",
    "           + ['Mismatch\\nk=6, m=2'] \n",
    "           + ['Exp-\\nmismatch\\nk=%s, $\\lambda=0.4$' % k for k in range(4,7)]\n",
    "          )\n",
    "plt.show()"
   ]
  },
  {
   "cell_type": "code",
   "execution_count": null,
   "metadata": {},
   "outputs": [],
   "source": []
  },
  {
   "cell_type": "code",
   "execution_count": null,
   "metadata": {},
   "outputs": [],
   "source": []
  }
 ],
 "metadata": {
  "kernelspec": {
   "display_name": "Python 3",
   "language": "python",
   "name": "python3"
  },
  "language_info": {
   "codemirror_mode": {
    "name": "ipython",
    "version": 3
   },
   "file_extension": ".py",
   "mimetype": "text/x-python",
   "name": "python",
   "nbconvert_exporter": "python",
   "pygments_lexer": "ipython3",
   "version": "3.5.2"
  }
 },
 "nbformat": 4,
 "nbformat_minor": 2
}
