{
 "cells": [
  {
   "cell_type": "code",
   "execution_count": 1,
   "metadata": {},
   "outputs": [],
   "source": [
    "import numpy as np\n",
    "import pandas as pd"
   ]
  },
  {
   "cell_type": "code",
   "execution_count": 2,
   "metadata": {},
   "outputs": [],
   "source": [
    "def read_file(filename):\n",
    "    with open(filename, 'r') as f:\n",
    "        content = f.read()\n",
    "        \n",
    "    return content"
   ]
  },
  {
   "cell_type": "code",
   "execution_count": 12,
   "metadata": {},
   "outputs": [],
   "source": [
    "def load_data():\n",
    "    data = {}\n",
    "    for index in range(3):\n",
    "        X_train = pd.read_csv('Xtr%s_mat50.csv' % index, delimiter=' ', names=range(0,50)).values\n",
    "        seq_train = pd.read_csv('Xtr%s.csv' % index, names='1').values\n",
    "        X_test = pd.read_csv('Xte%s_mat50.csv' % index, delimiter=' ', names=range(0,50)).values\n",
    "        seq_test = pd.read_csv('Xte%s.csv' % index, names='1').values\n",
    "        labels = pd.read_csv('Ytr%s.csv' % index, names=('Id', 'Bound'), skiprows=[0], delimiter=',')\n",
    "\n",
    "        data[index] = {\n",
    "            'seq_train': seq_train,\n",
    "            'X_train': X_train,\n",
    "            'y_train': labels['Bound'].values,\n",
    "            'seq_test': seq_test,\n",
    "            'X_test': X_test,\n",
    "            'ids': labels['Id'].values,\n",
    "        }\n",
    "        \n",
    "    return data\n",
    "\n",
    "DATA = load_data()"
   ]
  },
  {
   "cell_type": "code",
   "execution_count": 13,
   "metadata": {},
   "outputs": [],
   "source": [
    "from data_manipulation import split_train_test_valid, get_precision"
   ]
  },
  {
   "cell_type": "markdown",
   "metadata": {},
   "source": [
    "## Kernel ridge regression "
   ]
  },
  {
   "cell_type": "code",
   "execution_count": 5,
   "metadata": {},
   "outputs": [],
   "source": [
    "from ridge_regression import get_ridge_prediction, kernel_ridge_regression"
   ]
  },
  {
   "cell_type": "code",
   "execution_count": 7,
   "metadata": {},
   "outputs": [
    {
     "data": {
      "text/plain": [
       "(1200, 50)"
      ]
     },
     "execution_count": 7,
     "metadata": {},
     "output_type": "execute_result"
    }
   ],
   "source": [
    "train_X, train_y, test_X, test_y, valid_X, valid_y = split_train_test_valid(DATA[0]['X_train'], DATA[0]['y_train'])\n",
    "train_X.shape"
   ]
  },
  {
   "cell_type": "code",
   "execution_count": 29,
   "metadata": {},
   "outputs": [],
   "source": [
    "def linear_K(x1, x2):\n",
    "    return x1 @ x2.T"
   ]
  },
  {
   "cell_type": "code",
   "execution_count": 9,
   "metadata": {},
   "outputs": [],
   "source": [
    "REG_PARAMS_SPAN = [10**i for i in range(-10, 10)]\n",
    "\n",
    "def get_best_reg_param():\n",
    "    test_precisions = []\n",
    "    for reg in REG_PARAMS_SPAN:\n",
    "        alpha = kernel_ridge_regression(linear_K, train_X, train_y, reg)\n",
    "        pred = get_ridge_prediction(linear_K, train_X, test_X, alpha)\n",
    "        test_precisions.append(get_precision(pred, test_y))\n",
    "        \n",
    "    best_reg_index = max(range(len(REG_PARAMS_SPAN)), key=lambda x: test_precisions[x])\n",
    "    return REG_PARAMS_SPAN[best_reg_index]"
   ]
  },
  {
   "cell_type": "code",
   "execution_count": 10,
   "metadata": {},
   "outputs": [
    {
     "data": {
      "text/plain": [
       "0.62250000000000005"
      ]
     },
     "execution_count": 10,
     "metadata": {},
     "output_type": "execute_result"
    }
   ],
   "source": [
    "reg_param = get_best_reg_param()\n",
    "alpha = kernel_ridge_regression(linear_K, train_X, train_y, reg_param)\n",
    "pred = get_ridge_prediction(linear_K, train_X, valid_X, alpha)\n",
    "get_precision(pred, valid_y)"
   ]
  },
  {
   "cell_type": "markdown",
   "metadata": {},
   "source": [
    "## Spectrum kernel "
   ]
  },
  {
   "cell_type": "code",
   "execution_count": 15,
   "metadata": {},
   "outputs": [],
   "source": [
    "train_seq, train_y, test_seq, test_y, valid_X, valid_y = split_train_test_valid(DATA[0]['seq_train'], DATA[0]['y_train'])"
   ]
  },
  {
   "cell_type": "code",
   "execution_count": 16,
   "metadata": {},
   "outputs": [
    {
     "data": {
      "text/plain": [
       "(1200, 50)"
      ]
     },
     "execution_count": 16,
     "metadata": {},
     "output_type": "execute_result"
    }
   ],
   "source": [
    "train_X, train_y, test_X, test_y, valid_X, valid_y = split_train_test_valid(DATA[0]['X_train'], DATA[0]['y_train'])\n",
    "train_X.shape"
   ]
  },
  {
   "cell_type": "code",
   "execution_count": 6,
   "metadata": {},
   "outputs": [],
   "source": [
    "from spectrum_kernel import transform_to_index_and_save"
   ]
  },
  {
   "cell_type": "code",
   "execution_count": 7,
   "metadata": {
    "scrolled": true
   },
   "outputs": [
    {
     "name": "stdout",
     "output_type": "stream",
     "text": [
      "0\n",
      "100\n",
      "200\n",
      "300\n",
      "400\n",
      "500\n",
      "600\n",
      "700\n",
      "800\n",
      "900\n",
      "1000\n",
      "1100\n",
      "1200\n",
      "1300\n",
      "1400\n",
      "1500\n",
      "1600\n",
      "1700\n",
      "1800\n",
      "1900\n",
      "0\n",
      "100\n",
      "200\n",
      "300\n",
      "400\n",
      "500\n",
      "600\n",
      "700\n",
      "800\n",
      "900\n",
      "0\n",
      "100\n",
      "200\n",
      "300\n",
      "400\n",
      "500\n",
      "600\n",
      "700\n",
      "800\n",
      "900\n",
      "1000\n",
      "1100\n",
      "1200\n",
      "1300\n",
      "1400\n",
      "1500\n",
      "1600\n",
      "1700\n",
      "1800\n",
      "1900\n",
      "0\n",
      "100\n",
      "200\n",
      "300\n",
      "400\n",
      "500\n",
      "600\n",
      "700\n",
      "800\n",
      "900\n",
      "0\n",
      "100\n",
      "200\n",
      "300\n",
      "400\n",
      "500\n",
      "600\n",
      "700\n",
      "800\n",
      "900\n",
      "1000\n",
      "1100\n",
      "1200\n",
      "1300\n",
      "1400\n",
      "1500\n",
      "1600\n",
      "1700\n",
      "1800\n",
      "1900\n",
      "0\n",
      "100\n",
      "200\n",
      "300\n",
      "400\n",
      "500\n",
      "600\n",
      "700\n",
      "800\n",
      "900\n"
     ]
    }
   ],
   "source": [
    "transform_to_index_and_save(6)"
   ]
  },
  {
   "cell_type": "code",
   "execution_count": 25,
   "metadata": {},
   "outputs": [],
   "source": [
    "def load_data_k(k):\n",
    "    data = {}\n",
    "    for index in range(3):\n",
    "        X_train = np.loadtxt('spectral_preindexed/Xtr%s_spectral_%s.gz' % (index, k))\n",
    "        seq_train = pd.read_csv('Xtr%s.csv' % index, names='1').values\n",
    "        X_test = np.loadtxt('spectral_preindexed/Xte%s_spectral_%s.gz' % (index, k))\n",
    "        seq_test = pd.read_csv('Xte%s.csv' % index, names='1').values\n",
    "        labels = pd.read_csv('Ytr%s.csv' % index, names=('Id', 'Bound'), skiprows=[0], delimiter=',')\n",
    "\n",
    "        data[index] = {\n",
    "            'seq_train': seq_train,\n",
    "            'X_train': X_train,\n",
    "            'y_train': labels['Bound'].values,\n",
    "            'seq_test': seq_test,\n",
    "            'X_test': X_test,\n",
    "            'ids': labels['Id'].values,\n",
    "        }\n",
    "        \n",
    "    return data"
   ]
  },
  {
   "cell_type": "code",
   "execution_count": 41,
   "metadata": {
    "scrolled": true
   },
   "outputs": [],
   "source": [
    "k = 10\n",
    "def spectrum_2(word1, word2):\n",
    "    return sum(word2.count(word1[i:i+k]) for i in range(len(word1)-k+1))\n",
    "\n",
    "def spectrum_kernel_2(seq1, seq2):\n",
    "    n1 = seq1.shape[0]\n",
    "    n2 = seq2.shape[0]\n",
    "\n",
    "    K = np.zeros((n1,n2))\n",
    "    for i in range(n1):\n",
    "        for j in range(n2):\n",
    "            K[i,j] = spectrum_2(seq1[i,0], seq2[j,0])\n",
    "    \n",
    "    return K\n",
    "\n",
    "K = spectrum_kernel_2(train_seq, train_seq)"
   ]
  },
  {
   "cell_type": "code",
   "execution_count": 39,
   "metadata": {},
   "outputs": [
    {
     "data": {
      "text/plain": [
       "110.0"
      ]
     },
     "execution_count": 39,
     "metadata": {},
     "output_type": "execute_result"
    }
   ],
   "source": [
    "np.sum(K[0,:])"
   ]
  },
  {
   "cell_type": "code",
   "execution_count": 27,
   "metadata": {},
   "outputs": [],
   "source": [
    "def spectrum_kernel(x1, x2):        \n",
    "    return x1 @ x2.T"
   ]
  },
  {
   "cell_type": "code",
   "execution_count": 88,
   "metadata": {},
   "outputs": [
    {
     "data": {
      "text/plain": [
       "array([[ 111.,   15.,    0., ...,   12.,    8.,    5.],\n",
       "       [  15.,  101.,   13., ...,   12.,   11.,   15.],\n",
       "       [   0.,   13.,  115., ...,    8.,    6.,    5.],\n",
       "       ..., \n",
       "       [  12.,   12.,    8., ...,  107.,   11.,   11.],\n",
       "       [   8.,   11.,    6., ...,   11.,  103.,    9.],\n",
       "       [   5.,   15.,    5., ...,   11.,    9.,  109.]])"
      ]
     },
     "execution_count": 88,
     "metadata": {},
     "output_type": "execute_result"
    }
   ],
   "source": [
    "K = spectrum_kernel(train_X, train_X)\n",
    "K"
   ]
  },
  {
   "cell_type": "code",
   "execution_count": 23,
   "metadata": {},
   "outputs": [],
   "source": [
    "REG_PARAMS_SPAN = [10**i for i in range(-10, 10)]\n",
    "\n",
    "def get_best_reg_param():\n",
    "    test_precisions = []\n",
    "    for reg in REG_PARAMS_SPAN:\n",
    "        alpha = kernel_ridge_regression(spectrum_kernel, train_X, train_y, reg)\n",
    "        pred = get_ridge_prediction(spectrum_kernel, train_X, test_X, alpha)\n",
    "        test_precisions.append(get_precision(pred, test_y))\n",
    "        \n",
    "    best_reg_index = max(range(len(REG_PARAMS_SPAN)), key=lambda x: test_precisions[x])\n",
    "    return REG_PARAMS_SPAN[best_reg_index], test_precisions[best_reg_index]"
   ]
  },
  {
   "cell_type": "code",
   "execution_count": 97,
   "metadata": {},
   "outputs": [
    {
     "data": {
      "text/plain": [
       "(1000, 0.745)"
      ]
     },
     "execution_count": 97,
     "metadata": {},
     "output_type": "execute_result"
    }
   ],
   "source": [
    "get_best_reg_param()"
   ]
  },
  {
   "cell_type": "markdown",
   "metadata": {},
   "source": [
    "## Substring Kernel "
   ]
  },
  {
   "cell_type": "code",
   "execution_count": null,
   "metadata": {},
   "outputs": [],
   "source": [
    "train_X, train_y, test_X, test_y, valid_X, valid_y = split_train_test_valid(DATA[0]['seq_train'], DATA[0]['y_train'])\n",
    "train_X.shape"
   ]
  },
  {
   "cell_type": "code",
   "execution_count": null,
   "metadata": {},
   "outputs": [],
   "source": [
    "from substring_kernel import K_k, substring_kernel"
   ]
  },
  {
   "cell_type": "code",
   "execution_count": null,
   "metadata": {},
   "outputs": [],
   "source": [
    "LAMBDA = 0.1\n",
    "K_k(LAMBDA, 2, 'car', 'car') - 2*LAMBDA**4+LAMBDA**6 < 10**-5"
   ]
  },
  {
   "cell_type": "code",
   "execution_count": null,
   "metadata": {},
   "outputs": [],
   "source": [
    "K_k(0.1, 5, \n",
    "   'CAGCTTTTATCACCTTTGAGGGAAAGTCATATTAATTTAATACTGCACACACTTGTACAACAGATCTTCTTTACTATTAAAACTCAGTTTATCAAATCACA',\n",
    "   'AATAACATACCCCACTCTTTCATCTCAATCAAAAATTGAAAAAGTCAAAGAATCCTGCTTTTTTGTTTTTCTCCAAGCCATTACCCCCTCTTGATCATTGC'\n",
    "   )"
   ]
  },
  {
   "cell_type": "code",
   "execution_count": null,
   "metadata": {},
   "outputs": [],
   "source": [
    "# This is too slow by several orders of magnitude...\n",
    "for j in range(train_X.shape[0]):\n",
    "    print(j)\n",
    "    K_k(0.1, 2, train_X[1,0], train_X[j,0])"
   ]
  },
  {
   "cell_type": "markdown",
   "metadata": {},
   "source": [
    "## Final results"
   ]
  },
  {
   "cell_type": "code",
   "execution_count": 31,
   "metadata": {},
   "outputs": [],
   "source": [
    "def produce_results(preds, ids):\n",
    "    data = [\n",
    "        '%s,%s' % (id, pred) for pred, id in zip(preds, ids)\n",
    "    ]\n",
    "    \n",
    "    data.insert(0, 'Id,Bound')\n",
    "    with open('submission.csv', 'w') as f:\n",
    "        f.write('\\n'.join(data))"
   ]
  },
  {
   "cell_type": "code",
   "execution_count": 32,
   "metadata": {},
   "outputs": [],
   "source": [
    "def train_tune_and_pred_on_test():\n",
    "    preds = []\n",
    "    ids = []\n",
    "    for k in range(3):\n",
    "        train_X, train_y, test_X, test_y, valid_X, valid_y = split_train_test_valid(DATA[k]['X_train'], DATA[k]['y_train'])\n",
    "\n",
    "        # Validation precision\n",
    "        reg_param, _ = get_best_reg_param()\n",
    "        alpha = kernel_ridge_regression(linear_K, train_X, train_y, reg_param)\n",
    "        pred = get_ridge_prediction(linear_K, train_X, valid_X, alpha)\n",
    "        print(\"Dataset %s has found a parameter with validation precision %.3f\" % (k, get_precision(pred, valid_y)))\n",
    "        \n",
    "        # Kaggle submission\n",
    "        alpha = kernel_ridge_regression(linear_K, DATA[k]['X_train'], DATA[k]['y_train'], reg_param)\n",
    "        pred = get_ridge_prediction(linear_K, DATA[k]['X_train'], DATA[k]['X_test'], alpha)\n",
    "        \n",
    "        preds += list(pred)\n",
    "\n",
    "    produce_results(preds, range(3000))"
   ]
  },
  {
   "cell_type": "code",
   "execution_count": 33,
   "metadata": {},
   "outputs": [
    {
     "name": "stdout",
     "output_type": "stream",
     "text": [
      "Dataset 0 has found a parameter with validation precision 0.718\n",
      "Dataset 1 has found a parameter with validation precision 0.885\n",
      "Dataset 2 has found a parameter with validation precision 0.650\n"
     ]
    }
   ],
   "source": [
    "train_tune_and_pred_on_test()"
   ]
  },
  {
   "cell_type": "markdown",
   "metadata": {},
   "source": [
    "#### For sequences "
   ]
  },
  {
   "cell_type": "code",
   "execution_count": 43,
   "metadata": {},
   "outputs": [],
   "source": [
    "def get_best_reg_param(K_train, K_test):\n",
    "    test_precisions = []\n",
    "    for reg in REG_PARAMS_SPAN:\n",
    "        alpha = kernel_ridge_regression(spectrum_kernel, train_X, train_y, reg, K=K_train)\n",
    "        pred = get_ridge_prediction(spectrum_kernel, train_X, test_X, alpha, K_x=K_test)\n",
    "        test_precisions.append(get_precision(pred, test_y))\n",
    "        \n",
    "    best_reg_index = max(range(len(REG_PARAMS_SPAN)), key=lambda x: test_precisions[x])\n",
    "    return REG_PARAMS_SPAN[best_reg_index], test_precisions[best_reg_index]\n",
    "\n",
    "def train_tune_and_pred_on_test():\n",
    "    preds = []\n",
    "    ids = []\n",
    "    for k in range(3):\n",
    "        train_seq, train_y, test_seq, test_y, valid_seq, valid_y = split_train_test_valid(DATA[k]['seq_train'], DATA[k]['y_train'])\n",
    "\n",
    "        K_train = spectrum_kernel_2(train_seq, train_seq)\n",
    "        print(\"train K done\")\n",
    "        K_test = spectrum_kernel_2(train_seq, test_seq)\n",
    "        print(\"test K done\")\n",
    "        K_valid = spectrum_kernel_2(train_seq, valid_seq)\n",
    "        print(\"valid K done\")\n",
    "        reg_param, _ = get_best_reg_param(K_train, K_test)\n",
    "        \n",
    "        # Validation precision\n",
    "        alpha = kernel_ridge_regression(linear_K, train_X, train_y, reg_param, K=K_train)\n",
    "        pred = get_ridge_prediction(linear_K, train_X, valid_X, alpha, K_x=K_test)\n",
    "        print(\"Dataset %s has found a parameter with validation precision %.3f\" % (k, get_precision(pred, valid_y)))\n",
    "        \n",
    "        # Kaggle submission\n",
    "        K_total = spectrum_kernel_2(DATA[k]['seq_train'], DATA[k]['seq_train'])\n",
    "        print(\"total K done\")\n",
    "        K_total = spectrum_kernel_2(DATA[k]['seq_train'], DATA[k]['seq_test'])\n",
    "        print(\"final K_x done\")\n",
    "        \n",
    "        alpha = kernel_ridge_regression(linear_K, DATA[k]['X_train'], DATA[k]['y_train'], reg_param)\n",
    "        pred = get_ridge_prediction(linear_K, DATA[k]['X_train'], DATA[k]['X_test'], alpha)\n",
    "        \n",
    "        preds += list(pred)\n",
    "\n",
    "    produce_results(preds, range(3000))"
   ]
  },
  {
   "cell_type": "code",
   "execution_count": null,
   "metadata": {},
   "outputs": [
    {
     "name": "stdout",
     "output_type": "stream",
     "text": [
      "train K done\n",
      "test K done\n",
      "valid K done\n",
      "Dataset 0 has found a parameter with validation precision 0.532\n"
     ]
    }
   ],
   "source": [
    "train_tune_and_pred_on_test()"
   ]
  },
  {
   "cell_type": "code",
   "execution_count": null,
   "metadata": {},
   "outputs": [],
   "source": []
  }
 ],
 "metadata": {
  "kernelspec": {
   "display_name": "Python 3",
   "language": "python",
   "name": "python3"
  },
  "language_info": {
   "codemirror_mode": {
    "name": "ipython",
    "version": 3
   },
   "file_extension": ".py",
   "mimetype": "text/x-python",
   "name": "python",
   "nbconvert_exporter": "python",
   "pygments_lexer": "ipython3",
   "version": "3.5.2"
  }
 },
 "nbformat": 4,
 "nbformat_minor": 2
}
