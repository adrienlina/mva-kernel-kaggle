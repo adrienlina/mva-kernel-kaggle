{
 "cells": [
  {
   "cell_type": "code",
   "execution_count": 1,
   "metadata": {},
   "outputs": [],
   "source": [
    "import numpy as np\n",
    "import scipy\n",
    "import pandas as pd\n",
    "from matplotlib import pyplot as plt"
   ]
  },
  {
   "cell_type": "code",
   "execution_count": 2,
   "metadata": {},
   "outputs": [],
   "source": [
    "def read_file(filename):\n",
    "    with open(filename, 'r') as f:\n",
    "        content = f.read()\n",
    "        \n",
    "    return content"
   ]
  },
  {
   "cell_type": "code",
   "execution_count": 3,
   "metadata": {},
   "outputs": [],
   "source": [
    "def load_data():\n",
    "    data = {}\n",
    "    for index in range(3):\n",
    "        X_train = pd.read_csv('Xtr%s_mat50.csv' % index, delimiter=' ', names=range(0,50)).values\n",
    "        seq_train = pd.read_csv('Xtr%s.csv' % index, names='1').values\n",
    "        X_test = pd.read_csv('Xte%s_mat50.csv' % index, delimiter=' ', names=range(0,50)).values\n",
    "        seq_test = pd.read_csv('Xte%s.csv' % index, names='1').values\n",
    "        labels = pd.read_csv('Ytr%s.csv' % index, names=('Id', 'Bound'), skiprows=[0], delimiter=',')\n",
    "\n",
    "        data[index] = {\n",
    "            'seq_train': seq_train,\n",
    "            'X_train': X_train,\n",
    "            'y_train': labels['Bound'].values,\n",
    "            'seq_test': seq_test,\n",
    "            'X_test': X_test,\n",
    "            'ids': labels['Id'].values,\n",
    "        }\n",
    "        \n",
    "    return data"
   ]
  },
  {
   "cell_type": "code",
   "execution_count": 4,
   "metadata": {},
   "outputs": [],
   "source": [
    "from data_manipulation import split_train_test_valid, get_precision"
   ]
  },
  {
   "cell_type": "markdown",
   "metadata": {},
   "source": [
    "## Kernel ridge regression (linear kernel)"
   ]
  },
  {
   "cell_type": "code",
   "execution_count": 5,
   "metadata": {},
   "outputs": [],
   "source": [
    "from ridge_regression import get_ridge_prediction, kernel_ridge_regression"
   ]
  },
  {
   "cell_type": "code",
   "execution_count": 6,
   "metadata": {},
   "outputs": [
    {
     "data": {
      "text/plain": [
       "(1200, 50)"
      ]
     },
     "execution_count": 6,
     "metadata": {},
     "output_type": "execute_result"
    }
   ],
   "source": [
    "DATA = load_data()\n",
    "\n",
    "train_X, train_y, test_X, test_y, valid_X, valid_y = split_train_test_valid(DATA[0]['X_train'], DATA[0]['y_train'])\n",
    "train_X.shape"
   ]
  },
  {
   "cell_type": "code",
   "execution_count": 6,
   "metadata": {},
   "outputs": [],
   "source": [
    "def linear_K(x1, x2):\n",
    "    return x1 @ x2.T"
   ]
  },
  {
   "cell_type": "code",
   "execution_count": null,
   "metadata": {},
   "outputs": [],
   "source": [
    "REG_PARAMS_SPAN = [10**i for i in range(-10, 10)] + [10**i/2 for i in range(-10, 10)]\n",
    "\n",
    "def get_best_reg_param():\n",
    "    test_precisions = []\n",
    "    K = linear_K(train_X, train_X)\n",
    "    K_x = linear_K(train_X, test_X)\n",
    "    \n",
    "    for reg in REG_PARAMS_SPAN:\n",
    "        alpha = kernel_ridge_regression(linear_K, train_X, train_y, reg)\n",
    "        pred = get_ridge_prediction(linear_K, train_X, test_X, alpha)\n",
    "        test_precisions.append(get_precision(pred, test_y))\n",
    "        \n",
    "    best_reg_index = max(range(len(REG_PARAMS_SPAN)), key=lambda x: test_precisions[x])\n",
    "    return REG_PARAMS_SPAN[best_reg_index]"
   ]
  },
  {
   "cell_type": "code",
   "execution_count": 302,
   "metadata": {},
   "outputs": [
    {
     "data": {
      "text/plain": [
       "0.58999999999999997"
      ]
     },
     "execution_count": 302,
     "metadata": {},
     "output_type": "execute_result"
    }
   ],
   "source": [
    "reg_param = get_best_reg_param()"
   ]
  },
  {
   "cell_type": "code",
   "execution_count": 8,
   "metadata": {},
   "outputs": [],
   "source": [
    "K = linear_K(train_X, train_X)\n",
    "K_x = linear_K(train_X, test_X)"
   ]
  },
  {
   "cell_type": "code",
   "execution_count": 11,
   "metadata": {},
   "outputs": [
    {
     "data": {
      "text/plain": [
       "0.62749999999999995"
      ]
     },
     "execution_count": 11,
     "metadata": {},
     "output_type": "execute_result"
    }
   ],
   "source": [
    "alpha = kernel_ridge_regression(K, train_y, .001)\n",
    "pred = get_ridge_prediction(K_x, alpha)\n",
    "get_precision(pred, test_y)"
   ]
  },
  {
   "cell_type": "markdown",
   "metadata": {},
   "source": [
    "## Logistic "
   ]
  },
  {
   "cell_type": "code",
   "execution_count": 25,
   "metadata": {},
   "outputs": [],
   "source": [
    "K = linear_K(train_X, train_X)"
   ]
  },
  {
   "cell_type": "code",
   "execution_count": 7,
   "metadata": {},
   "outputs": [],
   "source": [
    "def WKRR(K, W, y, reg):\n",
    "    n = K.shape[0]\n",
    "    W_half = np.diag(np.sqrt(W))\n",
    "    return W_half @ np.linalg.inv(W_half@K@W_half + n*reg*np.eye(n)) @ W_half @ y"
   ]
  },
  {
   "cell_type": "code",
   "execution_count": 27,
   "metadata": {},
   "outputs": [
    {
     "data": {
      "text/plain": [
       "(1200,)"
      ]
     },
     "execution_count": 27,
     "metadata": {},
     "output_type": "execute_result"
    }
   ],
   "source": [
    "WKRR(K, np.ones((1200,)), train_y, 0.1).shape"
   ]
  },
  {
   "cell_type": "code",
   "execution_count": 8,
   "metadata": {},
   "outputs": [],
   "source": [
    "def sigmoid(x):\n",
    "    return 1 / (1+np.exp(-x))"
   ]
  },
  {
   "cell_type": "code",
   "execution_count": 9,
   "metadata": {},
   "outputs": [],
   "source": [
    "def logistic_regression(K, y, reg):\n",
    "    n = K.shape[0]\n",
    "    W = np.ones((n,))\n",
    "    z = y\n",
    "    for i in range(10):\n",
    "        alpha = WKRR(K, W, z, reg)\n",
    "        m = alpha @ K\n",
    "        P = -sigmoid(-m*y)\n",
    "        W = sigmoid(m) * sigmoid(-m)\n",
    "        z = m - P/W\n",
    "        \n",
    "    return alpha"
   ]
  },
  {
   "cell_type": "code",
   "execution_count": 52,
   "metadata": {},
   "outputs": [
    {
     "data": {
      "text/plain": [
       "array([ 0.00394415,  0.00416667,  0.00394106, ...,  0.00416667,\n",
       "        0.00394036,  0.00395562])"
      ]
     },
     "execution_count": 52,
     "metadata": {},
     "output_type": "execute_result"
    }
   ],
   "source": [
    "alpha = logistic_regression(K, train_y, .1)\n",
    "alpha"
   ]
  },
  {
   "cell_type": "code",
   "execution_count": 53,
   "metadata": {},
   "outputs": [
    {
     "data": {
      "text/plain": [
       "0.53500000000000003"
      ]
     },
     "execution_count": 53,
     "metadata": {},
     "output_type": "execute_result"
    }
   ],
   "source": [
    "pred = get_ridge_prediction(K_x, alpha)\n",
    "get_precision(pred, test_y)"
   ]
  },
  {
   "cell_type": "code",
   "execution_count": 48,
   "metadata": {},
   "outputs": [],
   "source": [
    "REG_PARAMS_SPAN = [10**i for i in range(-10, 10)] + [10**i/2 for i in range(-10, 10)]\n",
    "\n",
    "def get_best_reg_param(kernel, method, data):\n",
    "    train_X, train_y, test_X, test_y = data\n",
    "    \n",
    "    K = kernel(train_X, train_X)\n",
    "    K_x = kernel(train_X, test_X)\n",
    "    \n",
    "    test_precisions = []\n",
    "\n",
    "    for reg in REG_PARAMS_SPAN:\n",
    "        alpha = method(K, train_y, reg)\n",
    "        pred = get_ridge_prediction(K_x, alpha)\n",
    "        test_precisions.append(get_precision(pred, test_y))\n",
    "        \n",
    "    best_reg_index = max(range(len(REG_PARAMS_SPAN)), key=lambda x: test_precisions[x])\n",
    "    return REG_PARAMS_SPAN[best_reg_index], test_precisions[best_reg_index]"
   ]
  },
  {
   "cell_type": "code",
   "execution_count": 11,
   "metadata": {},
   "outputs": [
    {
     "ename": "NameError",
     "evalue": "name 'train_X' is not defined",
     "output_type": "error",
     "traceback": [
      "\u001b[0;31m---------------------------------------------------------------------------\u001b[0m",
      "\u001b[0;31mNameError\u001b[0m                                 Traceback (most recent call last)",
      "\u001b[0;32m<ipython-input-11-b03b9997ea2b>\u001b[0m in \u001b[0;36m<module>\u001b[0;34m()\u001b[0m\n\u001b[0;32m----> 1\u001b[0;31m \u001b[0mget_best_reg_param\u001b[0m\u001b[0;34m(\u001b[0m\u001b[0mlinear_K\u001b[0m\u001b[0;34m,\u001b[0m \u001b[0mkernel_ridge_regression\u001b[0m\u001b[0;34m,\u001b[0m \u001b[0;34m(\u001b[0m\u001b[0mtrain_X\u001b[0m\u001b[0;34m,\u001b[0m \u001b[0mtrain_y\u001b[0m\u001b[0;34m,\u001b[0m \u001b[0mtest_X\u001b[0m\u001b[0;34m,\u001b[0m \u001b[0mtest_y\u001b[0m\u001b[0;34m)\u001b[0m\u001b[0;34m)\u001b[0m\u001b[0;34m\u001b[0m\u001b[0m\n\u001b[0m",
      "\u001b[0;31mNameError\u001b[0m: name 'train_X' is not defined"
     ]
    }
   ],
   "source": [
    "get_best_reg_param(linear_K, kernel_ridge_regression, (train_X, train_y, test_X, test_y))"
   ]
  },
  {
   "cell_type": "markdown",
   "metadata": {},
   "source": [
    "## SVM (Linear Kernel)"
   ]
  },
  {
   "cell_type": "code",
   "execution_count": 8,
   "metadata": {},
   "outputs": [],
   "source": [
    "from SVM import a_compute"
   ]
  },
  {
   "cell_type": "code",
   "execution_count": 106,
   "metadata": {},
   "outputs": [
    {
     "data": {
      "text/plain": [
       "array([1, 1, 0, ..., 1, 0, 0])"
      ]
     },
     "execution_count": 106,
     "metadata": {},
     "output_type": "execute_result"
    }
   ],
   "source": [
    "train_y"
   ]
  },
  {
   "cell_type": "code",
   "execution_count": 200,
   "metadata": {},
   "outputs": [],
   "source": [
    "def SVM_train(kernel, X, y, Lambda):\n",
    "    N = y.shape[0]\n",
    "    y = 2*y-1\n",
    "    \n",
    "    K = kernel(X,X)\n",
    "    alpha = np.zeros(N)\n",
    "    # we assume K is of size N,N\n",
    "    value = 100000\n",
    "\n",
    "    for n in range(1,100):\n",
    "        gradient = K @ alpha - y\n",
    "        potential_alpha = alpha - 1/n * gradient\n",
    "        for i in range(N):\n",
    "            if potential_alpha[i] * y[i] > 1. / (2. * Lambda * N):\n",
    "                potential_alpha[i] = (1. / (2. * Lambda * N))\n",
    "            if potential_alpha[i] * y[i] < 0.:\n",
    "                potential_alpha[i] = 0.\n",
    "        alpha = potential_alpha\n",
    "\n",
    "    return alpha\n",
    "\n",
    "def SVM_predict(X_train, X_test, alpha):\n",
    "    pos_neg = np.sign(alpha @ linear_K(train_X, test_X))\n",
    "    print(pos_neg)\n",
    "    return (pos_neg/2+0.5).astype(int)"
   ]
  },
  {
   "cell_type": "code",
   "execution_count": 201,
   "metadata": {
    "scrolled": true
   },
   "outputs": [
    {
     "data": {
      "text/plain": [
       "array([ 0.00416667,  0.00416667,  0.        , ...,  0.00416667,\n",
       "        0.        ,  0.        ])"
      ]
     },
     "execution_count": 201,
     "metadata": {},
     "output_type": "execute_result"
    }
   ],
   "source": [
    "K = linear_K(train_X, train_X)\n",
    "alpha = SVM_train(linear_K, train_X, train_y, 0.1)\n",
    "alpha"
   ]
  },
  {
   "cell_type": "markdown",
   "metadata": {},
   "source": [
    "## Spectrum kernel "
   ]
  },
  {
   "cell_type": "code",
   "execution_count": null,
   "metadata": {},
   "outputs": [],
   "source": [
    "train_seq, train_y, test_seq, test_y, valid_X, valid_y = split_train_test_valid(DATA[0]['seq_train'], DATA[0]['y_train'])"
   ]
  },
  {
   "cell_type": "code",
   "execution_count": null,
   "metadata": {},
   "outputs": [],
   "source": [
    "train_X, train_y, test_X, test_y, valid_X, valid_y = split_train_test_valid(DATA[0]['X_train'], DATA[0]['y_train'])\n",
    "train_X.shape"
   ]
  },
  {
   "cell_type": "code",
   "execution_count": 15,
   "metadata": {},
   "outputs": [],
   "source": [
    "from spectrum_kernel import transform_to_index_and_save, get_words"
   ]
  },
  {
   "cell_type": "code",
   "execution_count": 14,
   "metadata": {},
   "outputs": [],
   "source": [
    "def load_data_k(k):\n",
    "    data = {}\n",
    "    for index in range(3):\n",
    "        X_train = np.loadtxt('spectral_preindexed/Xtr%s_spectral_%s.gz' % (index, k))\n",
    "        seq_train = pd.read_csv('Xtr%s.csv' % index, names='1').values\n",
    "        X_test = np.loadtxt('spectral_preindexed/Xte%s_spectral_%s.gz' % (index, k))\n",
    "        seq_test = pd.read_csv('Xte%s.csv' % index, names='1').values\n",
    "        labels = pd.read_csv('Ytr%s.csv' % index, names=('Id', 'Bound'), skiprows=[0], delimiter=',')\n",
    "\n",
    "        X_train_mean = X_train.mean(axis=0)\n",
    "        X_train_center = X_train - X_train_mean\n",
    "        X_test_center = X_test - X_train_mean\n",
    "        \n",
    "        data[index] = {\n",
    "            'seq_train': seq_train,\n",
    "            'X_train': X_train,\n",
    "            'y_train': labels['Bound'].values,\n",
    "            'seq_test': seq_test,\n",
    "            'X_test': X_test,\n",
    "            'ids': labels['Id'].values,\n",
    "        }\n",
    "        \n",
    "    return data"
   ]
  },
  {
   "cell_type": "code",
   "execution_count": null,
   "metadata": {
    "scrolled": true
   },
   "outputs": [],
   "source": [
    "k = 10\n",
    "def spectrum_2(word1, word2):\n",
    "    return sum(word2.count(word1[i:i+k]) for i in range(len(word1)-k+1))\n",
    "\n",
    "def spectrum_kernel_2(seq1, seq2):\n",
    "    n1 = seq1.shape[0]\n",
    "    n2 = seq2.shape[0]\n",
    "\n",
    "    K = np.zeros((n1,n2))\n",
    "    for i in range(n1):\n",
    "        for j in range(n2):\n",
    "            K[i,j] = spectrum_2(seq1[i,0], seq2[j,0])\n",
    "    \n",
    "    return K\n",
    "\n",
    "K = spectrum_kernel_2(train_seq, train_seq)"
   ]
  },
  {
   "cell_type": "code",
   "execution_count": null,
   "metadata": {},
   "outputs": [],
   "source": [
    "np.sum(K[0,:])"
   ]
  },
  {
   "cell_type": "code",
   "execution_count": null,
   "metadata": {},
   "outputs": [],
   "source": []
  },
  {
   "cell_type": "code",
   "execution_count": 25,
   "metadata": {},
   "outputs": [],
   "source": [
    "def spectrum_kernel(x1, x2):        \n",
    "    return x1 @ x2.T"
   ]
  },
  {
   "cell_type": "code",
   "execution_count": null,
   "metadata": {},
   "outputs": [],
   "source": [
    "K = spectrum_kernel(train_X, train_X)\n",
    "K"
   ]
  },
  {
   "cell_type": "code",
   "execution_count": null,
   "metadata": {},
   "outputs": [],
   "source": [
    "get_best_reg_param(train_X, train_y, test_X, test_y)"
   ]
  },
  {
   "cell_type": "markdown",
   "metadata": {},
   "source": [
    "## Mismatch Kernel "
   ]
  },
  {
   "cell_type": "code",
   "execution_count": 16,
   "metadata": {},
   "outputs": [],
   "source": [
    "import Levenshtein"
   ]
  },
  {
   "cell_type": "code",
   "execution_count": null,
   "metadata": {},
   "outputs": [],
   "source": [
    "DATA = load_data_k(6)"
   ]
  },
  {
   "cell_type": "code",
   "execution_count": null,
   "metadata": {},
   "outputs": [],
   "source": [
    "train_X, train_y, test_X, test_y, valid_X, valid_y = split_train_test_valid(DATA[0]['X_train'], DATA[0]['y_train'])\n",
    "train_X.shape"
   ]
  },
  {
   "cell_type": "code",
   "execution_count": 17,
   "metadata": {},
   "outputs": [],
   "source": [
    "def get_mismatch_matrix(k,m):\n",
    "    words = get_words(k)\n",
    "    mismatch_matrix = np.zeros((len(words), len(words)))\n",
    "    for i in range(len(words)):\n",
    "        for j in range(i, len(words)):\n",
    "            if Levenshtein.hamming(words[i], words[j]) <= m:\n",
    "                mismatch_matrix[i,j] = 1/2\n",
    "                mismatch_matrix[j,i] = 1/2\n",
    "    return mismatch_matrix\n",
    "\n",
    "mismatch_matrix = get_mismatch_matrix(6,1)"
   ]
  },
  {
   "cell_type": "code",
   "execution_count": 18,
   "metadata": {},
   "outputs": [],
   "source": [
    "def mismatch_kernel(x1, x2):\n",
    "    return x1 @ mismatch_matrix @ x2.T"
   ]
  },
  {
   "cell_type": "code",
   "execution_count": 19,
   "metadata": {},
   "outputs": [
    {
     "ename": "NameError",
     "evalue": "name 'train_X' is not defined",
     "output_type": "error",
     "traceback": [
      "\u001b[0;31m---------------------------------------------------------------------------\u001b[0m",
      "\u001b[0;31mNameError\u001b[0m                                 Traceback (most recent call last)",
      "\u001b[0;32m<ipython-input-19-cc57a7dc8323>\u001b[0m in \u001b[0;36m<module>\u001b[0;34m()\u001b[0m\n\u001b[0;32m----> 1\u001b[0;31m \u001b[0mK\u001b[0m \u001b[0;34m=\u001b[0m \u001b[0mmismatch_kernel\u001b[0m\u001b[0;34m(\u001b[0m\u001b[0mtrain_X\u001b[0m\u001b[0;34m,\u001b[0m \u001b[0mtrain_X\u001b[0m\u001b[0;34m)\u001b[0m\u001b[0;34m\u001b[0m\u001b[0m\n\u001b[0m\u001b[1;32m      2\u001b[0m \u001b[0mK\u001b[0m\u001b[0;34m\u001b[0m\u001b[0m\n",
      "\u001b[0;31mNameError\u001b[0m: name 'train_X' is not defined"
     ]
    }
   ],
   "source": [
    "K = mismatch_kernel(train_X, train_X)\n",
    "K"
   ]
  },
  {
   "cell_type": "code",
   "execution_count": null,
   "metadata": {},
   "outputs": [],
   "source": [
    "REG_PARAMS_SPAN = [10**i for i in range(-10, 10)] + [10**i/2 for i in range(-10, 10)]\n",
    "\n",
    "def get_best_reg_param(train_X, train_y, test_X, test_y):\n",
    "    test_precisions = []\n",
    "    K_train = mismatch_kernel(train_X, train_X)\n",
    "    K_test = mismatch_kernel(train_X, test_X)\n",
    "    for reg in REG_PARAMS_SPAN:\n",
    "        alpha = kernel_ridge_regression(mismatch_kernel, train_X, train_y, reg, K=K_train)\n",
    "        pred = get_ridge_prediction(mismatch_kernel, train_X, test_X, alpha, K_x=K_test)\n",
    "        test_precisions.append(get_precision(pred, test_y))\n",
    "        \n",
    "    best_reg_index = max(range(len(REG_PARAMS_SPAN)), key=lambda x: test_precisions[x])\n",
    "    return REG_PARAMS_SPAN[best_reg_index], test_precisions[best_reg_index]"
   ]
  },
  {
   "cell_type": "code",
   "execution_count": null,
   "metadata": {},
   "outputs": [],
   "source": [
    "get_best_reg_param(train_X, train_y, test_X, test_y)"
   ]
  },
  {
   "cell_type": "markdown",
   "metadata": {},
   "source": [
    "## Homemade mismatch "
   ]
  },
  {
   "cell_type": "code",
   "execution_count": 45,
   "metadata": {},
   "outputs": [],
   "source": [
    "def get_exp_mismatch_matrix(k, _lambda):\n",
    "    words = get_words(k)\n",
    "    exp_mismatch_matrix = np.zeros((len(words), len(words)))\n",
    "    for i in range(len(words)):\n",
    "        exp_mismatch_matrix[i,i] = 1\n",
    "        for j in range(i+1, len(words)):\n",
    "            exp_mismatch_matrix[i,j] = _lambda**Levenshtein.hamming(words[i], words[j])\n",
    "            exp_mismatch_matrix[j,i] = exp_mismatch_matrix[i,j]\n",
    "            \n",
    "    return exp_mismatch_matrix\n",
    "\n",
    "exp_mismatch_matrix = get_exp_mismatch_matrix(6,0.4)"
   ]
  },
  {
   "cell_type": "code",
   "execution_count": 39,
   "metadata": {},
   "outputs": [
    {
     "data": {
      "text/plain": [
       "array([ 1.      ,  0.5     ,  0.5     , ...,  0.015625,  0.015625,\n",
       "        0.015625])"
      ]
     },
     "execution_count": 39,
     "metadata": {},
     "output_type": "execute_result"
    }
   ],
   "source": [
    "exp_mismatch_matrix[0,:]"
   ]
  },
  {
   "cell_type": "code",
   "execution_count": 40,
   "metadata": {},
   "outputs": [],
   "source": [
    "def exp_mismatch_kernel(x1, x2):\n",
    "    return x1 @ exp_mismatch_matrix @ x2.T"
   ]
  },
  {
   "cell_type": "code",
   "execution_count": null,
   "metadata": {},
   "outputs": [],
   "source": [
    "K = exp_mismatch_kernel(train_X, train_X)\n",
    "K"
   ]
  },
  {
   "cell_type": "markdown",
   "metadata": {},
   "source": [
    "## Substring Kernel "
   ]
  },
  {
   "cell_type": "code",
   "execution_count": null,
   "metadata": {},
   "outputs": [],
   "source": [
    "train_X, train_y, test_X, test_y, valid_X, valid_y = split_train_test_valid(DATA[0]['seq_train'], DATA[0]['y_train'])\n",
    "train_X.shape"
   ]
  },
  {
   "cell_type": "code",
   "execution_count": null,
   "metadata": {},
   "outputs": [],
   "source": [
    "from substring_kernel import K_k, substring_kernel"
   ]
  },
  {
   "cell_type": "code",
   "execution_count": null,
   "metadata": {},
   "outputs": [],
   "source": [
    "LAMBDA = 0.1\n",
    "K_k(LAMBDA, 2, 'car', 'car') - 2*LAMBDA**4+LAMBDA**6 < 10**-5"
   ]
  },
  {
   "cell_type": "code",
   "execution_count": null,
   "metadata": {},
   "outputs": [],
   "source": [
    "K_k(0.1, 5, \n",
    "   'CAGCTTTTATCACCTTTGAGGGAAAGTCATATTAATTTAATACTGCACACACTTGTACAACAGATCTTCTTTACTATTAAAACTCAGTTTATCAAATCACA',\n",
    "   'AATAACATACCCCACTCTTTCATCTCAATCAAAAATTGAAAAAGTCAAAGAATCCTGCTTTTTTGTTTTTCTCCAAGCCATTACCCCCTCTTGATCATTGC'\n",
    "   )"
   ]
  },
  {
   "cell_type": "code",
   "execution_count": null,
   "metadata": {},
   "outputs": [],
   "source": [
    "# This is too slow by several orders of magnitude...\n",
    "for j in range(train_X.shape[0]):\n",
    "    print(j)\n",
    "    K_k(0.1, 2, train_X[1,0], train_X[j,0])"
   ]
  },
  {
   "cell_type": "markdown",
   "metadata": {},
   "source": [
    "## Final results"
   ]
  },
  {
   "cell_type": "code",
   "execution_count": 32,
   "metadata": {},
   "outputs": [],
   "source": [
    "DATA = load_data_k(6)"
   ]
  },
  {
   "cell_type": "code",
   "execution_count": 33,
   "metadata": {},
   "outputs": [
    {
     "data": {
      "text/plain": [
       "(2000, 4096)"
      ]
     },
     "execution_count": 33,
     "metadata": {},
     "output_type": "execute_result"
    }
   ],
   "source": [
    "DATA[0]['X_train'].shape"
   ]
  },
  {
   "cell_type": "code",
   "execution_count": 34,
   "metadata": {},
   "outputs": [],
   "source": [
    "def produce_results(preds, ids):\n",
    "    data = [\n",
    "        '%s,%s' % (id, pred) for pred, id in zip(preds, ids)\n",
    "    ]\n",
    "    \n",
    "    data.insert(0, 'Id,Bound')\n",
    "    with open('submission.csv', 'w') as f:\n",
    "        f.write('\\n'.join(data))"
   ]
  },
  {
   "cell_type": "code",
   "execution_count": 51,
   "metadata": {},
   "outputs": [],
   "source": [
    "def train_tune_and_pred_on_test(kernel, method):\n",
    "    preds = []\n",
    "    ids = []\n",
    "    for index in range(3):\n",
    "        train_X, train_y, test_X, test_y, valid_X, valid_y = split_train_test_valid(\n",
    "            DATA[index]['X_train'], \n",
    "            DATA[index]['y_train']\n",
    "        )\n",
    "        data = train_X, train_y, test_X, test_y\n",
    "\n",
    "        # Finding best parameter\n",
    "        reg_param, _ = get_best_reg_param(kernel, method, data)\n",
    "\n",
    "        # Validation precision\n",
    "        K = kernel(train_X, train_X)\n",
    "        K_x = kernel(train_X, valid_X)\n",
    "        alpha = method(K, train_y, reg_param)\n",
    "        pred = get_ridge_prediction(K_x, alpha)\n",
    "        print(\"Dataset %s has found a parameter (%s) with validation precision %.3f\" % (index, reg_param, get_precision(pred, valid_y)))\n",
    "        \n",
    "        # Kaggle submission\n",
    "        K = kernel(DATA[index]['X_train'], DATA[index]['X_train'])\n",
    "        K_x = kernel(DATA[index]['X_train'], DATA[index]['X_test'])\n",
    "        alpha = method(K, DATA[index]['y_train'], reg_param)\n",
    "        pred = get_ridge_prediction(K_x, alpha)\n",
    "        \n",
    "        preds += list(pred)\n",
    "\n",
    "    produce_results(preds, range(3000))"
   ]
  },
  {
   "cell_type": "code",
   "execution_count": 53,
   "metadata": {},
   "outputs": [
    {
     "name": "stdout",
     "output_type": "stream",
     "text": [
      "Dataset 0 has found a parameter (0.1) with validation precision 0.733\n",
      "Dataset 1 has found a parameter (0.1) with validation precision 0.887\n",
      "Dataset 2 has found a parameter (0.1) with validation precision 0.590\n"
     ]
    }
   ],
   "source": [
    "train_tune_and_pred_on_test(spectrum_kernel, kernel_ridge_regression)"
   ]
  },
  {
   "cell_type": "markdown",
   "metadata": {},
   "source": [
    "#### Some variability testing "
   ]
  },
  {
   "cell_type": "code",
   "execution_count": null,
   "metadata": {},
   "outputs": [],
   "source": [
    "def see_variability(reg_params, N=20):\n",
    "    results = np.zeros((3,N))\n",
    "    for index in range(3):\n",
    "        print(index)\n",
    "        for n in range(N):\n",
    "            train_X, train_y, test_X, test_y, valid_X, valid_y = split_train_test_valid(\n",
    "                DATA[index]['X_train'], \n",
    "                DATA[index]['y_train']\n",
    "            )\n",
    "            \n",
    "            # Validation precision\n",
    "            alpha = kernel_ridge_regression(spectrum_kernel, train_X, train_y, reg_params[index])\n",
    "            pred = get_ridge_prediction(spectrum_kernel, train_X, valid_X, alpha)\n",
    "            results[index,n] = get_precision(pred, valid_y)\n",
    "    return results\n",
    "\n",
    "res = see_variability(reg_params=[1000,500,1000])"
   ]
  },
  {
   "cell_type": "code",
   "execution_count": null,
   "metadata": {},
   "outputs": [],
   "source": [
    "plt.boxplot(res.T)\n",
    "plt.show()"
   ]
  },
  {
   "cell_type": "code",
   "execution_count": null,
   "metadata": {},
   "outputs": [],
   "source": [
    "res.mean(axis=1)"
   ]
  },
  {
   "cell_type": "code",
   "execution_count": null,
   "metadata": {},
   "outputs": [],
   "source": []
  }
 ],
 "metadata": {
  "kernelspec": {
   "display_name": "Python 3",
   "language": "python",
   "name": "python3"
  },
  "language_info": {
   "codemirror_mode": {
    "name": "ipython",
    "version": 3
   },
   "file_extension": ".py",
   "mimetype": "text/x-python",
   "name": "python",
   "nbconvert_exporter": "python",
   "pygments_lexer": "ipython3",
   "version": "3.5.2"
  }
 },
 "nbformat": 4,
 "nbformat_minor": 2
}
